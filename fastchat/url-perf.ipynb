{
 "cells": [
  {
   "cell_type": "code",
   "execution_count": null,
   "metadata": {},
   "outputs": [],
   "source": [
    "import time\n",
    "import requests\n",
    "import threading\n",
    "\n",
    "def send_request():\n",
    "    url = \"https://api.chunwei.life/api/v1/client/subscribe?token=26TMS487AJZRUVXC&flag=shadowrocket\"\n",
    "\n",
    "    response = requests.get(url)\n",
    "    if response.status_code == 200:\n",
    "        result = response.text  # 获取响应结果\n",
    "        print(\"Request successful\")\n",
    "        # print(\"Response:\", result)  # 打印响应结果\n",
    "    else:\n",
    "        print(f\"Request failed with status code {response.status_code}\")\n",
    "\n",
    "# 设置并发请求数量\n",
    "concurrent_requests = 6\n",
    "# 设置总请求数量\n",
    "total_requests = 1000\n",
    "\n",
    "start_time = time.time()\n",
    "\n",
    "threads = []\n",
    "for _ in range(total_requests):\n",
    "    thread = threading.Thread(target=send_request)\n",
    "    threads.append(thread)\n",
    "    thread.start()\n",
    "\n",
    "for thread in threads:\n",
    "    thread.join()\n",
    "\n",
    "end_time = time.time()\n",
    "total_time = end_time - start_time\n",
    "qps = total_requests / total_time\n",
    "\n",
    "print(f\"Total requests: {total_requests}\")\n",
    "print(f\"Total time: {total_time:.2f} seconds\")\n",
    "print(f\"QPS: {qps:.2f}\")"
   ]
  }
 ],
 "metadata": {
  "kernelspec": {
   "display_name": "test",
   "language": "python",
   "name": "python3"
  },
  "language_info": {
   "codemirror_mode": {
    "name": "ipython",
    "version": 3
   },
   "file_extension": ".py",
   "mimetype": "text/x-python",
   "name": "python",
   "nbconvert_exporter": "python",
   "pygments_lexer": "ipython3",
   "version": "3.9.16"
  },
  "orig_nbformat": 4
 },
 "nbformat": 4,
 "nbformat_minor": 2
}
