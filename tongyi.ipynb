{
 "cells": [
  {
   "cell_type": "code",
   "execution_count": null,
   "metadata": {},
   "outputs": [],
   "source": [
    "# For prerequisites running the following sample, visit https://help.aliyun.com/document_detail/611472.html\n",
    "\n",
    "import dashscope\n",
    "from dashscope import Generation\n",
    "from http import HTTPStatus\n",
    "import json\n",
    "\n",
    "dashscope.api_key='sk-xxxxx'\n",
    "\n",
    "response=Generation.call(\n",
    "    model='qwen-v1',\n",
    "    prompt='就当前的海洋污染的情况，写一份限塑的倡议书提纲，需要有理有据地号召大家克制地使用塑料制品'\n",
    "    )\n",
    "\n",
    "if response.status_code==HTTPStatus.OK:\n",
    "    print(json.dumps(response.output, indent=4, ensure_ascii=False))\n",
    "else:\n",
    "    print('Code: %d, status: %s, message: %s' % (response.status_code, response.code, response.message))"
   ]
  },
  {
   "cell_type": "code",
   "execution_count": null,
   "metadata": {},
   "outputs": [],
   "source": [
    "from http.server import BaseHTTPRequestHandler, HTTPServer\n",
    "import json\n",
    "import dashscope\n",
    "from dashscope import Generation\n",
    "from http import HTTPStatus\n",
    "\n",
    "dashscope.api_key = 'your-dashscope-api-key'\n",
    "\n",
    "class RequestHandler(BaseHTTPRequestHandler):\n",
    "    def do_POST(self):\n",
    "        content_length = int(self.headers['Content-Length'])\n",
    "        post_data = self.rfile.read(content_length)\n",
    "        request = json.loads(post_data.decode('utf-8'))\n",
    "        \n",
    "        response = Generation.call(\n",
    "            model='qwen-v1',\n",
    "            prompt=request['prompt']\n",
    "        )\n",
    "\n",
    "        self.send_response(HTTPStatus.OK)\n",
    "        self.send_header('Content-type', 'application/json')\n",
    "        self.end_headers()\n",
    "        \n",
    "        if response.status_code == HTTPStatus.OK:\n",
    "            output = {\n",
    "                'output': response.output,\n",
    "                'usage': response.usage\n",
    "            }\n",
    "            self.wfile.write(json.dumps(output).encode('utf-8'))\n",
    "        else:\n",
    "            error = {\n",
    "                'code': response.code,\n",
    "                'message': response.message\n",
    "            }\n",
    "            self.wfile.write(json.dumps(error).encode('utf-8'))\n",
    "\n",
    "def run_server():\n",
    "    server_address = ('', 8000)\n",
    "    httpd = HTTPServer(server_address, RequestHandler)\n",
    "    print('Starting server on port 8000...')\n",
    "    httpd.serve_forever()\n",
    "\n",
    "run_server()"
   ]
  }
 ],
 "metadata": {
  "kernelspec": {
   "display_name": "test",
   "language": "python",
   "name": "python3"
  },
  "language_info": {
   "codemirror_mode": {
    "name": "ipython",
    "version": 3
   },
   "file_extension": ".py",
   "mimetype": "text/x-python",
   "name": "python",
   "nbconvert_exporter": "python",
   "pygments_lexer": "ipython3",
   "version": "3.9.16"
  },
  "orig_nbformat": 4
 },
 "nbformat": 4,
 "nbformat_minor": 2
}
